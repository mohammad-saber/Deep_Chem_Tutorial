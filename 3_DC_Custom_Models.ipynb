{
 "cells": [
  {
   "cell_type": "markdown",
   "id": "f8a88cae",
   "metadata": {},
   "source": [
    "# DeepChem\n",
    "\n",
    "- [Installation](https://github.com/deepchem/deepchem#installation)\n",
    "- [Tutorial](https://deepchem.readthedocs.io/en/latest/get_started/tutorials.html)\n",
    "- [Sample Notebooks](https://github.com/deepchem/deepchem/tree/master/examples/tutorials) "
   ]
  },
  {
   "cell_type": "markdown",
   "id": "35271fd3",
   "metadata": {},
   "source": [
    "#### Creating custom Models with TensorFlow and PyTorch\n",
    "\n",
    "You can define your own model and wrap it by DeepChem model class."
   ]
  },
  {
   "cell_type": "code",
   "execution_count": 1,
   "id": "a4e03477",
   "metadata": {},
   "outputs": [],
   "source": [
    "import pandas as pd\n",
    "\n",
    "from sklearn.metrics import r2_score\n",
    "\n",
    "import deepchem as dc\n",
    "import tensorflow as tf\n",
    "import torch"
   ]
  },
  {
   "cell_type": "markdown",
   "id": "80866d09",
   "metadata": {},
   "source": [
    "# Data"
   ]
  },
  {
   "cell_type": "code",
   "execution_count": 4,
   "id": "e2dc39e2",
   "metadata": {},
   "outputs": [],
   "source": [
    "# In this notebook, we use a dataset provided by DeepChem. \n",
    "# Since we will make a CNN model, we cannot use \"GraphConv\" features. \n",
    "\n",
    "tasks, datasets, transformers = dc.molnet.load_delaney(featurizer='ECFP', splitter='random')\n",
    "train_dataset, valid_dataset, test_dataset = datasets\n",
    "\n",
    "# Initialze the metrics\n",
    "# https://deepchem.readthedocs.io/en/latest/api_reference/metrics.html\n",
    "metric_r2 = dc.metrics.Metric(dc.metrics.r2_score)\n",
    "metric_mse = dc.metrics.Metric(dc.metrics.mean_squared_error)\n",
    "metrics = [metric_r2, metric_mse]\n",
    "\n",
    "y_test = test_dataset.y   # 2D array"
   ]
  },
  {
   "cell_type": "markdown",
   "id": "84979a65",
   "metadata": {},
   "source": [
    "# Keras Model "
   ]
  },
  {
   "cell_type": "code",
   "execution_count": 5,
   "id": "b1398b1e",
   "metadata": {},
   "outputs": [],
   "source": [
    "# KerasModel is a subclass of DeepChem's Model class. It acts as a wrapper around a tensorflow.keras.Model. \n",
    "keras_model = tf.keras.Sequential([\n",
    "    tf.keras.layers.Dense(1000, activation='relu'),\n",
    "    tf.keras.layers.Dropout(rate=0.5),\n",
    "    tf.keras.layers.Dense(1)   # single output , regression\n",
    "])\n",
    "\n",
    "# You need to pass loss function (https://deepchem.readthedocs.io/en/latest/api_reference/models.html#losses)\n",
    "model = dc.models.KerasModel(keras_model, dc.models.losses.L2Loss())"
   ]
  },
  {
   "cell_type": "code",
   "execution_count": 6,
   "id": "fe9fe1d9",
   "metadata": {},
   "outputs": [
    {
     "data": {
      "text/plain": [
       "0.03087562561035156"
      ]
     },
     "execution_count": 6,
     "metadata": {},
     "output_type": "execute_result"
    }
   ],
   "source": [
    "model.fit(train_dataset, nb_epoch=50)   # You can increase \"nb_epoch\""
   ]
  },
  {
   "cell_type": "code",
   "execution_count": 7,
   "id": "840289bb",
   "metadata": {},
   "outputs": [
    {
     "name": "stdout",
     "output_type": "stream",
     "text": [
      "Model: \"sequential\"\n",
      "_________________________________________________________________\n",
      "Layer (type)                 Output Shape              Param #   \n",
      "=================================================================\n",
      "dense (Dense)                (100, 1000)               1025000   \n",
      "_________________________________________________________________\n",
      "dropout (Dropout)            (100, 1000)               0         \n",
      "_________________________________________________________________\n",
      "dense_1 (Dense)              (100, 1)                  1001      \n",
      "=================================================================\n",
      "Total params: 1,026,001\n",
      "Trainable params: 1,026,001\n",
      "Non-trainable params: 0\n",
      "_________________________________________________________________\n"
     ]
    }
   ],
   "source": [
    "model.model.summary()   # this line must be after \"model.fit\""
   ]
  },
  {
   "cell_type": "code",
   "execution_count": 8,
   "id": "4d8e085e",
   "metadata": {},
   "outputs": [
    {
     "name": "stdout",
     "output_type": "stream",
     "text": [
      "training set score: {'r2_score': 0.9788902786268423, 'mean_squared_error': 0.02110972137315766}\n",
      "validation set score: {'r2_score': 0.7094642454833595, 'mean_squared_error': 0.2047975356107964}\n",
      "test set score: {'r2_score': 0.6895225628555833, 'mean_squared_error': 0.2820879183579153}\n"
     ]
    }
   ],
   "source": [
    "print('training set score:', model.evaluate(train_dataset, metrics))   \n",
    "print('validation set score:', model.evaluate(valid_dataset, metrics))\n",
    "print('test set score:', model.evaluate(test_dataset, metrics))"
   ]
  },
  {
   "cell_type": "markdown",
   "id": "876389f9",
   "metadata": {},
   "source": [
    "### Prediction"
   ]
  },
  {
   "cell_type": "code",
   "execution_count": 9,
   "id": "78d1c3ec",
   "metadata": {},
   "outputs": [
    {
     "data": {
      "text/plain": [
       "0.6895225628555833"
      ]
     },
     "execution_count": 9,
     "metadata": {},
     "output_type": "execute_result"
    }
   ],
   "source": [
    "# input to \"model.predict\" is \"dataset\"\n",
    "y_pred = model.predict(test_dataset)   # numpy array [n, 1]\n",
    "\n",
    "r2_score(y_test, y_pred)"
   ]
  },
  {
   "cell_type": "markdown",
   "id": "e146773e",
   "metadata": {},
   "source": [
    "# PyTorch Model "
   ]
  },
  {
   "cell_type": "code",
   "execution_count": 11,
   "id": "37897380",
   "metadata": {},
   "outputs": [],
   "source": [
    "# TorchModel works just like KerasModel, except it wraps a torch.nn.Module.\n",
    "pytorch_model = torch.nn.Sequential(\n",
    "    torch.nn.Linear(1024, 1000),\n",
    "    torch.nn.ReLU(),\n",
    "    torch.nn.Dropout(0.5),\n",
    "    torch.nn.Linear(1000, 1)\n",
    ")\n",
    "\n",
    "model = dc.models.TorchModel(pytorch_model, dc.models.losses.L2Loss())"
   ]
  },
  {
   "cell_type": "code",
   "execution_count": 12,
   "id": "39d9b979",
   "metadata": {},
   "outputs": [
    {
     "name": "stdout",
     "output_type": "stream",
     "text": [
      "TorchModel(device=device(type='cpu'), learning_rate=None, loss=None,\n",
      "           model=Sequential(\n",
      "  (0): Linear(in_features=1024, out_features=1000, bias=True)\n",
      "  (1): ReLU()\n",
      "  (2): Dropout(p=0.5, inplace=False)\n",
      "  (3): Linear(in_features=1000, out_features=1, bias=True)\n",
      "),\n",
      "           model_dir='/var/folders/5_/xyk2cqhn5yj2yx4nw54_7x240000gn/T/tmp8vtjjiu5',\n",
      "           optimizer=<deepchem.models.optimizers.Adam object at 0x7fbdc12793d0>)\n"
     ]
    },
    {
     "name": "stderr",
     "output_type": "stream",
     "text": [
      "/opt/anaconda3/envs/GNN/lib/python3.7/site-packages/sklearn/base.py:213: FutureWarning: From version 0.24, get_params will raise an AttributeError if a parameter cannot be retrieved as an instance attribute. Previously it would return None.\n",
      "  FutureWarning)\n"
     ]
    }
   ],
   "source": [
    "# If you have scikit-learn version >= 0.24, you will get error. I installed version 0.23.\n",
    "print(model)"
   ]
  },
  {
   "cell_type": "code",
   "execution_count": 13,
   "id": "47af2336",
   "metadata": {},
   "outputs": [
    {
     "data": {
      "text/plain": [
       "0.026348528861999513"
      ]
     },
     "execution_count": 13,
     "metadata": {},
     "output_type": "execute_result"
    }
   ],
   "source": [
    "loss = model.fit(train_dataset, nb_epoch=50)   # You can increase \"nb_epoch\"\n",
    "loss"
   ]
  },
  {
   "cell_type": "code",
   "execution_count": 14,
   "id": "13b35f65",
   "metadata": {},
   "outputs": [
    {
     "name": "stdout",
     "output_type": "stream",
     "text": [
      "training set score: {'r2_score': 0.9804008336837297, 'mean_squared_error': 0.01959916631627031}\n",
      "validation set score: {'r2_score': 0.7108336373479438, 'mean_squared_error': 0.20383225655376985}\n",
      "test set score: {'r2_score': 0.6724113366864082, 'mean_squared_error': 0.2976345236604092}\n"
     ]
    }
   ],
   "source": [
    "print('training set score:', model.evaluate(train_dataset, metrics))\n",
    "print('validation set score:', model.evaluate(valid_dataset, metrics))\n",
    "print('test set score:', model.evaluate(test_dataset, metrics))"
   ]
  },
  {
   "cell_type": "markdown",
   "id": "ecc4c8ee",
   "metadata": {},
   "source": [
    "### Prediction"
   ]
  },
  {
   "cell_type": "code",
   "execution_count": 15,
   "id": "d24b496d",
   "metadata": {},
   "outputs": [
    {
     "data": {
      "text/plain": [
       "0.6724113366864082"
      ]
     },
     "execution_count": 15,
     "metadata": {},
     "output_type": "execute_result"
    }
   ],
   "source": [
    "# input to \"model.predict\" is \"dataset\"\n",
    "y_pred = model.predict(test_dataset)   # numpy array [n, 1]\n",
    "\n",
    "r2_score(y_test, y_pred)"
   ]
  },
  {
   "cell_type": "code",
   "execution_count": null,
   "id": "cc163639",
   "metadata": {},
   "outputs": [],
   "source": []
  }
 ],
 "metadata": {
  "kernelspec": {
   "display_name": "Python 3",
   "language": "python",
   "name": "python3"
  },
  "language_info": {
   "codemirror_mode": {
    "name": "ipython",
    "version": 3
   },
   "file_extension": ".py",
   "mimetype": "text/x-python",
   "name": "python",
   "nbconvert_exporter": "python",
   "pygments_lexer": "ipython3",
   "version": "3.7.11"
  }
 },
 "nbformat": 4,
 "nbformat_minor": 5
}
